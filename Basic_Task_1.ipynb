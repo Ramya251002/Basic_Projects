{
 "cells": [
  {
   "cell_type": "code",
   "execution_count": 1,
   "id": "a8d8b288-05cb-4987-a813-2be5279e3fbe",
   "metadata": {},
   "outputs": [
    {
     "name": "stdout",
     "output_type": "stream",
     "text": [
      "\n",
      "Task Management App\n",
      "1. Add Task\n",
      "2. Remove Task\n",
      "3. List Tasks\n",
      "4. Recommend Task\n",
      "5. Exit\n"
     ]
    },
    {
     "name": "stdin",
     "output_type": "stream",
     "text": [
      "Select an option:  1\n",
      "Enter task description:  Completeing slash mark task 1\n",
      "Enter task priority (Low/Medium/High):  High\n"
     ]
    },
    {
     "name": "stdout",
     "output_type": "stream",
     "text": [
      "Task added successfully.\n",
      "\n",
      "Task Management App\n",
      "1. Add Task\n",
      "2. Remove Task\n",
      "3. List Tasks\n",
      "4. Recommend Task\n",
      "5. Exit\n"
     ]
    },
    {
     "name": "stdin",
     "output_type": "stream",
     "text": [
      "Select an option:  1\n",
      "Enter task description:  Completing notes\n",
      "Enter task priority (Low/Medium/High):  low\n"
     ]
    },
    {
     "name": "stdout",
     "output_type": "stream",
     "text": [
      "Task added successfully.\n",
      "\n",
      "Task Management App\n",
      "1. Add Task\n",
      "2. Remove Task\n",
      "3. List Tasks\n",
      "4. Recommend Task\n",
      "5. Exit\n"
     ]
    },
    {
     "name": "stdin",
     "output_type": "stream",
     "text": [
      "Select an option:  3\n"
     ]
    },
    {
     "name": "stdout",
     "output_type": "stream",
     "text": [
      "                            description priority\n",
      "0                         Buy groceries     High\n",
      "1               Complete project report   Medium\n",
      "2      Schedule a meeting with the team      Low\n",
      "3  Prepare presentation for the meeting   Medium\n",
      "4                         Pay the bills     High\n",
      "5                              Exercise      Low\n",
      "6         Completeing slash mark task 1     High\n",
      "7                      Completing notes      Low\n",
      "\n",
      "Task Management App\n",
      "1. Add Task\n",
      "2. Remove Task\n",
      "3. List Tasks\n",
      "4. Recommend Task\n",
      "5. Exit\n"
     ]
    },
    {
     "name": "stdin",
     "output_type": "stream",
     "text": [
      "Select an option:  5\n"
     ]
    },
    {
     "name": "stdout",
     "output_type": "stream",
     "text": [
      "Goodbye!\n"
     ]
    }
   ],
   "source": [
    "import pandas as pd\n",
    "from sklearn.feature_extraction.text import CountVectorizer\n",
    "from sklearn.naive_bayes import MultinomialNB\n",
    "from sklearn.pipeline import make_pipeline\n",
    "import random\n",
    "\n",
    "# Initialize an empty task list\n",
    "tasks = pd.DataFrame(columns=['description', 'priority'])\n",
    "\n",
    "# Load pre-existing tasks from a CSV file (if any)\n",
    "try:\n",
    "    tasks = pd.read_csv('tasks.csv')\n",
    "except FileNotFoundError:\n",
    "    pass\n",
    "\n",
    "# Function to save tasks to a CSV file\n",
    "def save_tasks():\n",
    "    tasks.to_csv('tasks.csv', index=False)\n",
    "5\n",
    "# Train the task priority classifier\n",
    "if not tasks.empty:\n",
    "    vectorizer = CountVectorizer()\n",
    "    clf = MultinomialNB()\n",
    "    model = make_pipeline(vectorizer, clf)\n",
    "    model.fit(tasks['description'], tasks['priority'])\n",
    "else:\n",
    "    model = None\n",
    "\n",
    "# Function to add a task to the list\n",
    "def add_task(description, priority):\n",
    "    global tasks  # Declare tasks as a global variable\n",
    "    new_task = pd.DataFrame({'description': [description], 'priority': [priority]})\n",
    "    tasks = pd.concat([tasks, new_task], ignore_index=True)\n",
    "    save_tasks()\n",
    "\n",
    "# Function to remove a task by description\n",
    "def remove_task(description):\n",
    "    global tasks  # Declare tasks as a global variable\n",
    "    tasks = tasks[tasks['description'] != description]\n",
    "    save_tasks()\n",
    "\n",
    "# Function to list all tasks\n",
    "def list_tasks():\n",
    "    if tasks.empty:\n",
    "        print(\"No tasks available.\")\n",
    "    else:\n",
    "        print(tasks)\n",
    "\n",
    "# Function to recommend a task based on machine learning\n",
    "def recommend_task():\n",
    "    if not tasks.empty:\n",
    "        # Get high-priority tasks\n",
    "        high_priority_tasks = tasks[tasks['priority'] == 'High']\n",
    "        \n",
    "        if not high_priority_tasks.empty:\n",
    "            # Choose a random high-priority task\n",
    "            random_task = random.choice(high_priority_tasks['description'])\n",
    "            print(f\"Recommended task: {random_task} - Priority: High\")\n",
    "        else:\n",
    "            print(\"No high-priority tasks available for recommendation.\")\n",
    "    else:\n",
    "        print(\"No tasks available for recommendations.\")\n",
    "\n",
    "# Main menu\n",
    "while True:\n",
    "    print(\"\\nTask Management App\")\n",
    "    print(\"1. Add Task\")\n",
    "    print(\"2. Remove Task\")\n",
    "    print(\"3. List Tasks\")\n",
    "    print(\"4. Recommend Task\")\n",
    "    print(\"5. Exit\")\n",
    "\n",
    "    choice = input(\"Select an option: \")\n",
    "\n",
    "    if choice == \"1\":\n",
    "        description = input(\"Enter task description: \")\n",
    "        priority = input(\"Enter task priority (Low/Medium/High): \").capitalize()\n",
    "        if priority in ['Low', 'Medium', 'High']:\n",
    "            add_task(description, priority)\n",
    "            print(\"Task added successfully.\")\n",
    "        else:\n",
    "            print(\"Invalid priority. Please enter Low, Medium, or High.\")\n",
    "\n",
    "    elif choice == \"2\":\n",
    "        description = input(\"Enter task description to remove: \")\n",
    "        remove_task(description)\n",
    "        print(\"Task removed successfully.\")\n",
    "\n",
    "    elif choice == \"3\":\n",
    "        list_tasks()\n",
    "\n",
    "    elif choice == \"4\":\n",
    "        recommend_task()\n",
    "\n",
    "    elif choice == \"5\":\n",
    "        print(\"Goodbye!\")\n",
    "        break\n",
    "\n",
    "    else:\n",
    "        print(\"Invalid option. Please select a valid option.\")\n"
   ]
  },
  {
   "cell_type": "code",
   "execution_count": null,
   "id": "78454cd6-3d67-4bd2-b5f1-7de6fb3a358b",
   "metadata": {},
   "outputs": [],
   "source": []
  }
 ],
 "metadata": {
  "kernelspec": {
   "display_name": "Python 3 (ipykernel)",
   "language": "python",
   "name": "python3"
  },
  "language_info": {
   "codemirror_mode": {
    "name": "ipython",
    "version": 3
   },
   "file_extension": ".py",
   "mimetype": "text/x-python",
   "name": "python",
   "nbconvert_exporter": "python",
   "pygments_lexer": "ipython3",
   "version": "3.11.7"
  }
 },
 "nbformat": 4,
 "nbformat_minor": 5
}
